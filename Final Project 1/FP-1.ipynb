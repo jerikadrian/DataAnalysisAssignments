{
 "cells": [
  {
   "cell_type": "markdown",
   "metadata": {},
   "source": [
    "\n",
    "# <span style=\"color:black\">Trends in the Power to Energy Ratios of Global Energy Storage Systems</span>\n",
    "\n",
    "* **Name**:  <span style=\"color:black\">Jerik Adrian Valencia BAYON</span>\n",
    "* **Student number**:  <span style=\"color:black\">6530363577</span>\n",
    "\n",
    "<br>"
   ]
  },
  {
   "cell_type": "markdown",
   "metadata": {},
   "source": [
    "### Purpose:\n",
    "\n",
    "* <span style=\"color:black\">The power to energy ratio compares an energy storage system's ability to deliver and store energy. The purpose of this research is to explore how global energy storage systems differ in technology, application, and design by analyzing the power-to-energy ratio through clustering, regression, and classification.</span>\n",
    "* <span style=\"color:black\">The key **dependent** variable is the Power to Energy ratio</span>\n",
    "* <span style=\"color:black\">The **independent** variables include: Technology, Application, Commission Year, Country, Rated Power, and Storage Capacity</span>\n",
    "* <span style=\"color:black\">The dataset has 2741 cases</span>"
   ]
  },
  {
   "cell_type": "markdown",
   "metadata": {},
   "source": [
    "### Dataset source:\n",
    "\n",
    "The data come from the [US Department of Energy, Global Energy Storage Database](https://gesdb.sandia.gov/index.html)\n",
    "\n",
    "The data are available for download [here](https://gesdb.sandia.gov/projects.html).\n",
    "I selected all projects and then downloaded as a CSV file."
   ]
  }
 ],
 "metadata": {
  "kernelspec": {
   "display_name": "Python [conda env:base] *",
   "language": "python",
   "name": "conda-base-py"
  },
  "language_info": {
   "codemirror_mode": {
    "name": "ipython",
    "version": 3
   },
   "file_extension": ".py",
   "mimetype": "text/x-python",
   "name": "python",
   "nbconvert_exporter": "python",
   "pygments_lexer": "ipython3",
   "version": "3.13.5"
  }
 },
 "nbformat": 4,
 "nbformat_minor": 4
}
